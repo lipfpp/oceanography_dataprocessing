{
 "cells": [
  {
   "cell_type": "markdown",
   "id": "7efef99c",
   "metadata": {},
   "source": [
    "\n",
    "## Importante: para rodar a rotina é necessário ter o CDS API instalado\n",
    "\n",
    "*PASSOS PARA INSTALAR O CDS API*\n",
    "\n",
    ">**1. Cadastro**\n",
    "\n",
    "Fazer o cadastro no site da Climate Data Store https://cds.climate.copernicus.eu/#!/home\n",
    "\n",
    ">**2. Adicionar a chave e instalando o pacote CDS API no Python**\n",
    "\n",
    "No link https://cds.climate.copernicus.eu/api-how-to#install-the-cds-api-key mostra como adicionar a chave e como realizar a instalação do biblioteca CDS API no Python.\n",
    "\n",
    "A instalação do pacote pode ser feito pelo gerenciador de pacotes PIP ou CONDA\\\n",
    "*ex: pip install cdsapi\\\n",
    "ou\\\n",
    "conda install cdsapi*\n",
    "\n",
    "***Caso encontrem dificuldades em instalar o CDS API, o vídeo no link a seguir mostra o passo a passo detalhadamente.***\n",
    "https://www.youtube.com/watch?v=NHbvfggMC10&ab_channel=CopernicusECMWF\n",
    "\n",
    "<hr style=\"border:1px solid lightblue\"> </hr>\n",
    "\n",
    "* *A rotina estar configurada para realizar aquisição dos dados horários (a cada 1h) do ERA5, para todos os dias e meses do intervalo de tempo desejado.* \n",
    "\n",
    "* *A única alteração que deve ser feita pelo usuário é determinar os diretórios para os arquivos de saída.*\n",
    "\n",
    "* *Os parâmetros **latitude, longitude e intervalo de tempo** serão pedidos pela própria rotina quando executada.*  \n"
   ]
  },
  {
   "cell_type": "code",
   "execution_count": null,
   "id": "dc4fbcb5",
   "metadata": {},
   "outputs": [],
   "source": [
    "import xarray as xr\n",
    "from cdo import Cdo\n",
    "import pandas as pd\n",
    "import numpy\n",
    "import cdsapi\n",
    "import os\n",
    "import glob\n",
    "\n",
    "cdo = Cdo()\n",
    "c = cdsapi.Client()"
   ]
  },
  {
   "cell_type": "code",
   "execution_count": null,
   "id": "850870e2",
   "metadata": {},
   "outputs": [],
   "source": [
    "value1=input(\"Digite somente o primeiro ano da série temporal(mínimo 1979):\\n\")\n",
    "value2=input(\"Digite somente o último ano da série temporal(máximo 2021):\\n\")\n",
    "cor1=input(\"Digite o limite Norte da região (90 até -90; apenas número inteiro):\\n\")\n",
    "cor3=input(\"Digite o limite Sul da região (90 até -90; apenas número inteiro):\\n\")\n",
    "cor2=input(\"Digite o limite Oeste da região (-180 até 180; apenas número inteiro):\\n\")\n",
    "cor4=input(\"Digite o limite Leste da região (-180 até 180; apenas número inteiro):\\n\")\n",
    "\n",
    "value1=int(value1)\n",
    "value2=int(value2)+1\n",
    "cor1=int(cor1)\n",
    "cor2=int(cor2)\n",
    "cor3=int(cor3)\n",
    "cor4=int(cor4)"
   ]
  },
  {
   "cell_type": "code",
   "execution_count": null,
   "id": "8d0795bf",
   "metadata": {},
   "outputs": [],
   "source": [
    "\n",
    "for year in range(value1,value2):\n",
    "    c.retrieve(\n",
    "    'reanalysis-era5-single-levels',\n",
    "    {\n",
    "        'product_type': 'reanalysis',\n",
    "        'format': 'netcdf',\n",
    "        'variable': 'total_precipitation',\n",
    "        'year': str(year),\n",
    "        'month':['0'+str(x) if x<10 else str(x) for x in range(1,2)\n",
    "        ], \n",
    "        'day': ['0'+str(x) if x<10 else str(x) for x in range(1,32)\n",
    "        ],\n",
    "        'time':['0'+str(x)+':00' if x<10 else str(x)+':00' for x in range(24)],\n",
    "        'area': [\n",
    "            cor1, cor2, cor3,\n",
    "            cor4\n",
    "        ],\n",
    "    },\n",
    "    '/home/lipfp/Documentos/Marine_Heatwaves/saidas/ERA_raw/era5_year'+str(year)+'.nc')"
   ]
  },
  {
   "cell_type": "markdown",
   "id": "8dfe5a0e",
   "metadata": {},
   "source": [
    "### Atenção!\n",
    "Antes de execurtar os comandos da janela seguinte, deixe um diretório exclusivo para os outputs da função CDO.DAYMEAN. Isso será necessário pois a função OPEN_MFDATASET vai agrupar todos os arquivos .nc desse diretório."
   ]
  },
  {
   "cell_type": "code",
   "execution_count": null,
   "id": "44f6c3d9",
   "metadata": {},
   "outputs": [],
   "source": [
    "for year2 in range(value1, value2):\n",
    "    infile = '/home/lipfp/Documentos/Marine_Heatwaves/saidas/ERA_raw/era5_year' + str(year2) + '.nc'\n",
    "    cdo.daymean(input=infile, \n",
    "                output='/home/lipfp/Documentos/Marine_Heatwaves/saidas/ERA5_mean/' + str(year2) + '.nc')\n",
    "    \n",
    "dado = xr.open_mfdataset('/home/lipfp/Documentos/Marine_Heatwaves/saidas/ERA5_mean/*.nc')\n",
    "dado = dado.drop_dims(\"bnds\")\n",
    "dado.load().to_netcdf('/home/lipfp/Documentos/Marine_Heatwaves/saidas/ERA5_concat/Precipitation.nc') "
   ]
  },
  {
   "cell_type": "code",
   "execution_count": null,
   "id": "180c030c",
   "metadata": {},
   "outputs": [],
   "source": [
    "# files = glob.glob('/home/lipfp/Documentos/Marine_Heatwaves/saidas/ERA_raw/*.nc', recursive=True)\n",
    "# files2 = glob.glob('/home/lipfp/Documentos/Marine_Heatwaves/saidas/ERA5_mean/*.nc', recursive=True)\n",
    "# for f in files:\n",
    "#         os.remove(f)\n",
    "# for f in files2:\n",
    "#         os.remove(f)"
   ]
  }
 ],
 "metadata": {
  "kernelspec": {
   "display_name": "Python 3",
   "language": "python",
   "name": "python3"
  },
  "language_info": {
   "codemirror_mode": {
    "name": "ipython",
    "version": 3
   },
   "file_extension": ".py",
   "mimetype": "text/x-python",
   "name": "python",
   "nbconvert_exporter": "python",
   "pygments_lexer": "ipython3",
   "version": "3.8.3"
  }
 },
 "nbformat": 4,
 "nbformat_minor": 5
}
